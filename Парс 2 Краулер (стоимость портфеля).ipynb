{
 "cells": [
  {
   "cell_type": "code",
   "execution_count": 3,
   "id": "dc9c6876",
   "metadata": {},
   "outputs": [
    {
     "data": {
      "text/plain": [
       "'https://www.finam.ru/quote/moex-akcii/aeroflot/'"
      ]
     },
     "execution_count": 3,
     "metadata": {},
     "output_type": "execute_result"
    }
   ],
   "source": [
    "'https://www.finam.ru/quote/moex-akcii/vtb/'\n",
    "'https://www.finam.ru/quote/moex-akcii/lukoil/'\n",
    "'https://www.finam.ru/quote/moex-akcii/gazprom/'\n",
    "'https://www.finam.ru/quote/moex-akcii/aeroflot/'"
   ]
  },
  {
   "cell_type": "code",
   "execution_count": 10,
   "id": "e2b37deb",
   "metadata": {},
   "outputs": [
    {
     "name": "stdout",
     "output_type": "stream",
     "text": [
      "2022.10.07 20:29-240430.50575\n",
      "2022.10.07 20:29-239830.10575\n"
     ]
    },
    {
     "ename": "KeyboardInterrupt",
     "evalue": "",
     "output_type": "error",
     "traceback": [
      "\u001b[0;31m---------------------------------------------------------------------------\u001b[0m",
      "\u001b[0;31mKeyboardInterrupt\u001b[0m                         Traceback (most recent call last)",
      "Input \u001b[0;32mIn [10]\u001b[0m, in \u001b[0;36m<cell line: 17>\u001b[0;34m()\u001b[0m\n\u001b[1;32m     25\u001b[0m moment \u001b[38;5;241m=\u001b[39m datetime\u001b[38;5;241m.\u001b[39mdatetime\u001b[38;5;241m.\u001b[39mnow()\u001b[38;5;241m.\u001b[39mstrftime(\u001b[38;5;124m'\u001b[39m\u001b[38;5;124m%\u001b[39m\u001b[38;5;124mY.\u001b[39m\u001b[38;5;124m%\u001b[39m\u001b[38;5;124mm.\u001b[39m\u001b[38;5;132;01m%d\u001b[39;00m\u001b[38;5;124m \u001b[39m\u001b[38;5;124m%\u001b[39m\u001b[38;5;124mH:\u001b[39m\u001b[38;5;124m%\u001b[39m\u001b[38;5;124mM\u001b[39m\u001b[38;5;124m'\u001b[39m)\n\u001b[1;32m     26\u001b[0m \u001b[38;5;28mprint\u001b[39m(moment \u001b[38;5;241m+\u001b[39m \u001b[38;5;124m\"\u001b[39m\u001b[38;5;124m-\u001b[39m\u001b[38;5;124m\"\u001b[39m \u001b[38;5;241m+\u001b[39m \u001b[38;5;28mstr\u001b[39m(\u001b[38;5;28msum\u001b[39m(price_list)))\n\u001b[0;32m---> 27\u001b[0m \u001b[43mtime\u001b[49m\u001b[38;5;241;43m.\u001b[39;49m\u001b[43msleep\u001b[49m\u001b[43m(\u001b[49m\u001b[38;5;241;43m10\u001b[39;49m\u001b[43m)\u001b[49m\n",
      "\u001b[0;31mKeyboardInterrupt\u001b[0m: "
     ]
    }
   ],
   "source": [
    "import requests\n",
    "from bs4 import BeautifulSoup\n",
    "import re # заменяет один элемент на другой в выбранной переменной\n",
    "import time\n",
    "import datetime\n",
    "\n",
    "\n",
    "\n",
    "portfolio = {'aeroflot':10,\n",
    "            'vtb':50,\n",
    "            'gazprom':14,\n",
    "            'lukoil' :60\n",
    "            }\n",
    "    \n",
    "\n",
    "while True: \n",
    "    price_list = []\n",
    "    for k,v  in portfolio.items():  # k,v  элементе в словапе\n",
    "        url = 'https://www.finam.ru/quote/moex-akcii/' + k + '/'\n",
    "        inf_0 = BeautifulSoup(requests.get(url).text)\n",
    "        price_text = inf_0.find('span', {'id':'finfin-local-plugin-quote-item-review-price'}).get('data-quoteknownprice') # компонент который изменяется\n",
    "        price = float(re.sub(',', '.', price_text))\n",
    "        price_full = price * v\n",
    "        price_list.append(price_full)\n",
    "    moment = datetime.datetime.now().strftime('%Y.%m.%d %H:%M') # задается любая архитектура \n",
    "    print(moment + \"-\" + str(sum(price_list)))\n",
    "    time.sleep(10) # c разницей в 10 сек выдает данные портфеля, для этого нужно ввести цикл while\n"
   ]
  },
  {
   "cell_type": "code",
   "execution_count": null,
   "id": "190717f1",
   "metadata": {},
   "outputs": [],
   "source": []
  },
  {
   "cell_type": "code",
   "execution_count": null,
   "id": "eb5934ea",
   "metadata": {},
   "outputs": [],
   "source": []
  }
 ],
 "metadata": {
  "kernelspec": {
   "display_name": "Python 3 (ipykernel)",
   "language": "python",
   "name": "python3"
  },
  "language_info": {
   "codemirror_mode": {
    "name": "ipython",
    "version": 3
   },
   "file_extension": ".py",
   "mimetype": "text/x-python",
   "name": "python",
   "nbconvert_exporter": "python",
   "pygments_lexer": "ipython3",
   "version": "3.9.12"
  }
 },
 "nbformat": 4,
 "nbformat_minor": 5
}
